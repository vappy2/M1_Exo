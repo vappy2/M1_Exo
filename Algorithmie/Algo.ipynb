{
  "nbformat": 4,
  "nbformat_minor": 0,
  "metadata": {
    "colab": {
      "name": "Algo.ipynb",
      "provenance": [],
      "collapsed_sections": [
        "3Oh80fMMWmJW",
        "djymOC-BYB_N",
        "pF7tz-8UYxnH"
      ]
    },
    "kernelspec": {
      "name": "python3",
      "display_name": "Python 3"
    }
  },
  "cells": [
    {
      "cell_type": "markdown",
      "metadata": {
        "id": "3Oh80fMMWmJW"
      },
      "source": [
        "#1.1 Simple Echange\n",
        "\n",
        "\n",
        "```\n",
        "A,B <- input()\n",
        "C <- 0\n",
        "\n",
        "C = A // C prends la valeur de A. Puis on intervertit les deux valeurs\n",
        "\n",
        "A = B\n",
        "\n",
        "B = C\n",
        "```\n",
        "\n"
      ]
    },
    {
      "cell_type": "code",
      "metadata": {
        "id": "q5XkIkycSLHq",
        "outputId": "f73e2642-64e3-4f75-a53b-f2c1f137820d",
        "colab": {
          "base_uri": "https://localhost:8080/"
        }
      },
      "source": [
        "A = 2 \n",
        "B = 3\n",
        "C = 0\n",
        "\n",
        "C = A\n",
        "A = B\n",
        "B = C\n",
        "\n",
        "print (A,B,C)"
      ],
      "execution_count": null,
      "outputs": [
        {
          "output_type": "stream",
          "text": [
            "3 2 2\n"
          ],
          "name": "stdout"
        }
      ]
    },
    {
      "cell_type": "markdown",
      "metadata": {
        "id": "djymOC-BYB_N"
      },
      "source": [
        "#1.2 Le carré\n",
        "\n",
        "```\n",
        "a <- input(nombre) //L'utilisateur rentre un nombre\n",
        "A <- int(a)\n",
        "print(A*A) //On affiche le carré du nombre\n",
        "```\n",
        "\n"
      ]
    },
    {
      "cell_type": "code",
      "metadata": {
        "id": "zg47LZQSYQMH",
        "outputId": "a0a6fe91-e612-4dad-e361-429b0d785fd2",
        "colab": {
          "base_uri": "https://localhost:8080/",
          "height": 51
        }
      },
      "source": [
        "a = input('entrer un nombre')\n",
        "A = int(a) # On force le typage pour ne pas avoir de soucis\n",
        "print(A*A)"
      ],
      "execution_count": null,
      "outputs": [
        {
          "output_type": "stream",
          "text": [
            "entrer un nombre8\n",
            "64\n"
          ],
          "name": "stdout"
        }
      ]
    },
    {
      "cell_type": "markdown",
      "metadata": {
        "id": "pF7tz-8UYxnH"
      },
      "source": [
        "#1.3 La condition \n",
        "\n",
        "```\n",
        "a <- input(nombre) //L'utilisateur rentre un nombre\n",
        "A = int(a)\n",
        "Si A < 0\n",
        "  alors le nombre est négatif\n",
        "\n",
        "Si A = 0 \n",
        "  alors le nombre est positif\n",
        "\n",
        "Sinon\n",
        "  le nombre est positif\n",
        "\n",
        "```\n",
        "\n"
      ]
    },
    {
      "cell_type": "code",
      "metadata": {
        "id": "wjO96mG1Z2m9",
        "outputId": "0d2e143c-9a07-4fcb-ada4-dd9427639216",
        "colab": {
          "base_uri": "https://localhost:8080/",
          "height": 51
        }
      },
      "source": [
        "a = input('Entrer un nombre')\n",
        "A = int(a)\n",
        "if A < 0 :\n",
        "  print('Le nombre est négatif')\n",
        "elif A == 0 :\n",
        "  print('Le nombre est positif')\n",
        "else :\n",
        "  print('Le nombre est positif')"
      ],
      "execution_count": null,
      "outputs": [
        {
          "output_type": "stream",
          "text": [
            "Entrer un nombre0\n",
            "Le nombre est positif\n"
          ],
          "name": "stdout"
        }
      ]
    },
    {
      "cell_type": "markdown",
      "metadata": {
        "id": "_jGsVE6ecYHP"
      },
      "source": [
        "#1.4 Le Produit\n",
        "\n",
        "```\n",
        "a, b <- input(nb)\n",
        "A, B = int(a), int(b)\n",
        "\n",
        "Si A ou B sont < 0\n",
        "  alors le produit est négatif\n",
        "\n",
        "Si A = 0 ou B = 0 \n",
        "  alors le produit est positif\n",
        "\n",
        "Sinon \n",
        "  le produit est négatif\n",
        "```"
      ]
    },
    {
      "cell_type": "code",
      "metadata": {
        "id": "Ca9sMjD9czCd",
        "outputId": "c053c0f8-e9ef-407f-a5bc-22ac81cd12c4",
        "colab": {
          "base_uri": "https://localhost:8080/",
          "height": 68
        }
      },
      "source": [
        "a = input('Entrez un nombre :')\n",
        "b = input('Entrez un autre nombre :')\n",
        "\n",
        "A,B = int(a), int(b)\n",
        "\n",
        "if A < 0 or B < 0 :\n",
        "  print('Le produit est négatif')\n",
        "\n",
        "elif A == 0 or B == 0 :\n",
        "  print('Le produit est positif')\n",
        "else :\n",
        "  print('Le produit est positif')"
      ],
      "execution_count": null,
      "outputs": [
        {
          "output_type": "stream",
          "text": [
            "Entrez un nombre :9\n",
            "Entrez un autre nombre :9\n",
            "Le produit est positif\n"
          ],
          "name": "stdout"
        }
      ]
    },
    {
      "cell_type": "markdown",
      "metadata": {
        "id": "_pJfqEL-eagP"
      },
      "source": [
        "#1.5 Le calcul\n",
        "\n",
        "```\n",
        "a <- input\n",
        "A = int(a)\n",
        "\n",
        "liste = []\n",
        "On ajoute A à notre liste vide\n",
        "\n",
        "Pour i entre (1,10) :\n",
        "  add = a+i\n",
        "  on ajoute add à la liste vide\n",
        "\n",
        "On affiche la liste\n",
        "\n",
        "```"
      ]
    },
    {
      "cell_type": "code",
      "metadata": {
        "id": "D1_COhozfPSg",
        "outputId": "6c09be68-4eb8-4aa8-c700-b7bb54d23dd0",
        "colab": {
          "base_uri": "https://localhost:8080/",
          "height": 51
        }
      },
      "source": [
        "a = input('Entrez un nombre')\n",
        "\n",
        "A = int(a)\n",
        "result = []\n",
        "result.append(A)\n",
        "\n",
        "for i in range(1,11) :\n",
        "  add = A+i\n",
        "  result.append(add)\n",
        "\n",
        "print(result)"
      ],
      "execution_count": null,
      "outputs": [
        {
          "output_type": "stream",
          "text": [
            "Entrez un nombre-5\n",
            "[-5, -4, -3, -2, -1, 0, 1, 2, 3, 4, 5]\n"
          ],
          "name": "stdout"
        }
      ]
    },
    {
      "cell_type": "markdown",
      "metadata": {
        "id": "bj_3RIAXgSQW"
      },
      "source": [
        "#1.6 L'additivité\n",
        "\n",
        "```\n",
        "a <- input\n",
        "A = int(a)\n",
        "\n",
        "result = 0 //init \n",
        "\n",
        "pour i entre (0, A):\n",
        "  result += i\n",
        "\n",
        "Afficher le résultat\n",
        "\n",
        "```"
      ]
    },
    {
      "cell_type": "code",
      "metadata": {
        "id": "IuLQrPRBpWez",
        "outputId": "cd168dda-da8d-4802-c905-e37049d1d039",
        "colab": {
          "base_uri": "https://localhost:8080/",
          "height": 51
        }
      },
      "source": [
        "a = input('Entrez un nombre')\n",
        "A = int(a)\n",
        "\n",
        "result = 0\n",
        "\n",
        "for i in range(A+1):\n",
        "  result += i\n",
        "print(result)"
      ],
      "execution_count": null,
      "outputs": [
        {
          "output_type": "stream",
          "text": [
            "Entrez un nombre10\n",
            "55\n"
          ],
          "name": "stdout"
        }
      ]
    },
    {
      "cell_type": "markdown",
      "metadata": {
        "id": "K88tiprZydRV"
      },
      "source": [
        "#2 Les Tableaux\n",
        "##2.1 La somme \n",
        "\n",
        "```\n",
        "tableau = [] #Init du tableau\n",
        "result = 0 #intitialisation du résultat\n",
        "\n",
        "Pour i dans tableau \n",
        "  On ajoute tableau[i] à result\n",
        "\n",
        "Affiche result\n",
        "\n",
        "```"
      ]
    },
    {
      "cell_type": "code",
      "metadata": {
        "id": "bksjdwxV8aFZ",
        "outputId": "180a85a9-1304-482d-ad84-2c99b53b95fa",
        "colab": {
          "base_uri": "https://localhost:8080/",
          "height": 34
        }
      },
      "source": [
        "tableau = [1,2,3,4,5]\n",
        "\n",
        "result = 0\n",
        "\n",
        "for i in tableau :\n",
        "  result += tableau[i-1]\n",
        "\n",
        "print(result)"
      ],
      "execution_count": 2,
      "outputs": [
        {
          "output_type": "stream",
          "text": [
            "15\n"
          ],
          "name": "stdout"
        }
      ]
    },
    {
      "cell_type": "markdown",
      "metadata": {
        "id": "yasgtbPVGUsS"
      },
      "source": [
        "#2.2 La somme : le retour\n",
        "```\n",
        "tableau1, tableau2 <- tableau à rentrer\n",
        "\n",
        "result <- tableau final\n",
        "\n",
        "si len(tableau1) == len(tableau2) \n",
        "  pour i in tableau1 \n",
        "    pour j in tableau2\n",
        "      a = tableau1[i] + tableau[j]\n",
        "      result.append(a)\n",
        "\n",
        "Afficher tableau1, tableau2, result\n",
        "```"
      ]
    },
    {
      "cell_type": "code",
      "metadata": {
        "id": "CIU0A3FOH8DB",
        "outputId": "c3c61b2d-4a3e-45b8-d2ef-92418a1afb3d",
        "colab": {
          "base_uri": "https://localhost:8080/",
          "height": 34
        }
      },
      "source": [
        "from random import randint\n",
        "tableau1 = [randint(0,20) for _ in range(5)]\n",
        "tableau2 = [randint(0,20) for _ in range(5)]\n",
        "\n",
        "result = []\n",
        "taille = 5\n",
        "i = 0\n",
        "\n",
        "while i < taille :\n",
        "  result.append(tableau1[i] + tableau2[i])\n",
        "  i += 1\n",
        "print(tableau1, tableau2, result)\n"
      ],
      "execution_count": 22,
      "outputs": [
        {
          "output_type": "stream",
          "text": [
            "[5, 8, 7, 1, 5] [3, 14, 20, 19, 19] [8, 22, 27, 20, 24]\n"
          ],
          "name": "stdout"
        }
      ]
    },
    {
      "cell_type": "markdown",
      "metadata": {
        "id": "5QhML7qQLHG-"
      },
      "source": [
        "#2.3 Facproduct\n",
        "\n",
        "```\n",
        "tableau1, tableau2 <- tableau\n",
        "\n",
        "result = 0 \n",
        "\n",
        "if len(tableau1) == len(tableau2)\n",
        "  alors on multiplie l'élément du tableau1 avec l'élément du tableau2 qu'on stock dans a\n",
        "  On ajoute a au result\n",
        "\n",
        "print(result)\n",
        "```"
      ]
    },
    {
      "cell_type": "code",
      "metadata": {
        "id": "1tfrrygSU3MV",
        "outputId": "4a664417-d98e-4f3b-c925-4a5c669f9f38",
        "colab": {
          "base_uri": "https://localhost:8080/",
          "height": 231
        }
      },
      "source": [
        "from random import randint\n",
        "tableau1 = [randint(0,20) for _ in range(5)]\n",
        "tableau2 = [randint(0,20) for _ in range(5)]\n",
        "\n",
        "result = 0\n",
        "\n",
        "if len(tableau1) == len(tableau2) :\n",
        "  for i in tableau1:\n",
        "    for j in tableau2:\n",
        "      a = tableau1[i-1]*tableau2[j-1] #je ne comprends pas pourquoi ça ne fonctionne pas\n",
        "      result += a\n",
        "\n",
        "  print(result)"
      ],
      "execution_count": 24,
      "outputs": [
        {
          "output_type": "error",
          "ename": "IndexError",
          "evalue": "ignored",
          "traceback": [
            "\u001b[0;31m---------------------------------------------------------------------------\u001b[0m",
            "\u001b[0;31mIndexError\u001b[0m                                Traceback (most recent call last)",
            "\u001b[0;32m<ipython-input-24-93d0da83c88d>\u001b[0m in \u001b[0;36m<module>\u001b[0;34m()\u001b[0m\n\u001b[1;32m      8\u001b[0m   \u001b[0;32mfor\u001b[0m \u001b[0mi\u001b[0m \u001b[0;32min\u001b[0m \u001b[0mtableau1\u001b[0m\u001b[0;34m:\u001b[0m\u001b[0;34m\u001b[0m\u001b[0;34m\u001b[0m\u001b[0m\n\u001b[1;32m      9\u001b[0m     \u001b[0;32mfor\u001b[0m \u001b[0mj\u001b[0m \u001b[0;32min\u001b[0m \u001b[0mtableau2\u001b[0m\u001b[0;34m:\u001b[0m\u001b[0;34m\u001b[0m\u001b[0;34m\u001b[0m\u001b[0m\n\u001b[0;32m---> 10\u001b[0;31m       \u001b[0ma\u001b[0m \u001b[0;34m=\u001b[0m \u001b[0mtableau1\u001b[0m\u001b[0;34m[\u001b[0m\u001b[0mi\u001b[0m\u001b[0;34m-\u001b[0m\u001b[0;36m1\u001b[0m\u001b[0;34m]\u001b[0m\u001b[0;34m*\u001b[0m\u001b[0mtableau2\u001b[0m\u001b[0;34m[\u001b[0m\u001b[0mj\u001b[0m\u001b[0;34m-\u001b[0m\u001b[0;36m1\u001b[0m\u001b[0;34m]\u001b[0m\u001b[0;34m\u001b[0m\u001b[0;34m\u001b[0m\u001b[0m\n\u001b[0m\u001b[1;32m     11\u001b[0m       \u001b[0mresult\u001b[0m \u001b[0;34m+=\u001b[0m \u001b[0ma\u001b[0m\u001b[0;34m\u001b[0m\u001b[0;34m\u001b[0m\u001b[0m\n\u001b[1;32m     12\u001b[0m \u001b[0;34m\u001b[0m\u001b[0m\n",
            "\u001b[0;31mIndexError\u001b[0m: list index out of range"
          ]
        }
      ]
    }
  ]
}