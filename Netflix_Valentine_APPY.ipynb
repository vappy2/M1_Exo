{
  "nbformat": 4,
  "nbformat_minor": 0,
  "metadata": {
    "colab": {
      "name": "Netflix.ipynb",
      "provenance": []
    },
    "kernelspec": {
      "name": "python3",
      "display_name": "Python 3"
    }
  },
  "cells": [
    {
      "cell_type": "markdown",
      "metadata": {
        "id": "dCDSq6K2NJV_"
      },
      "source": [
        "#TP : Etude du contenu de Netflix"
      ]
    },
    {
      "cell_type": "markdown",
      "metadata": {
        "id": "01jIa5e6NgY1"
      },
      "source": [
        "# 1) Qu'est-ce que Netflix ? \n",
        "\n",
        "Netflix est un service de streaming sur abonnement qui permet aux utilisateurs de regarder des séries TV et des films sans publicité sur un appareil connecté à Internet.\n",
        "Une des particularité de Netflix est que son contenu varie en fonction de la position géographique de l'utilisateur 🌍 "
      ]
    },
    {
      "cell_type": "code",
      "metadata": {
        "id": "bV6-8K3EMLjQ",
        "outputId": "3fae2aff-56df-44c3-98d9-c068f20cd25a",
        "colab": {
          "base_uri": "https://localhost:8080/",
          "height": 493
        }
      },
      "source": [
        "# on importe le dataset que l'on étudie, ainsi que les librairies dont nous avons besoin \n",
        "\n",
        "#Les librairies\n",
        "import pandas as pd\n",
        "import numpy as np\n",
        "import seaborn as sns\n",
        "import matplotlib.pyplot as plt\n",
        "\n",
        "#Le dataset\n",
        "from google.colab import drive\n",
        "drive.mount('/content/gdrive')\n",
        "root_path = 'gdrive/My Drive/M1 Tech lead/Algorithmie/dataset/'\n",
        "#Le sep = \"\" correspond aux séparations utilisées dans le fichier. Ici il s'agit des ,\n",
        "netflix = pd.read_csv(root_path+'netflix_titles.csv', sep = \",\")\n",
        "print('Fichier uploader ! ✨')\n",
        "\n",
        "#On regarde que le fichier s'est upload correctement\n",
        "netflix.head(5)"
      ],
      "execution_count": 2,
      "outputs": [
        {
          "output_type": "stream",
          "text": [
            "Mounted at /content/gdrive\n",
            "Fichier uploader ! ✨\n"
          ],
          "name": "stdout"
        },
        {
          "output_type": "execute_result",
          "data": {
            "text/html": [
              "<div>\n",
              "<style scoped>\n",
              "    .dataframe tbody tr th:only-of-type {\n",
              "        vertical-align: middle;\n",
              "    }\n",
              "\n",
              "    .dataframe tbody tr th {\n",
              "        vertical-align: top;\n",
              "    }\n",
              "\n",
              "    .dataframe thead th {\n",
              "        text-align: right;\n",
              "    }\n",
              "</style>\n",
              "<table border=\"1\" class=\"dataframe\">\n",
              "  <thead>\n",
              "    <tr style=\"text-align: right;\">\n",
              "      <th></th>\n",
              "      <th>show_id</th>\n",
              "      <th>type</th>\n",
              "      <th>title</th>\n",
              "      <th>director</th>\n",
              "      <th>cast</th>\n",
              "      <th>country</th>\n",
              "      <th>date_added</th>\n",
              "      <th>release_year</th>\n",
              "      <th>rating</th>\n",
              "      <th>duration</th>\n",
              "      <th>listed_in</th>\n",
              "      <th>description</th>\n",
              "    </tr>\n",
              "  </thead>\n",
              "  <tbody>\n",
              "    <tr>\n",
              "      <th>0</th>\n",
              "      <td>81145628</td>\n",
              "      <td>Movie</td>\n",
              "      <td>Norm of the North: King Sized Adventure</td>\n",
              "      <td>Richard Finn, Tim Maltby</td>\n",
              "      <td>Alan Marriott, Andrew Toth, Brian Dobson, Cole...</td>\n",
              "      <td>United States, India, South Korea, China</td>\n",
              "      <td>September 9, 2019</td>\n",
              "      <td>2019</td>\n",
              "      <td>TV-PG</td>\n",
              "      <td>90 min</td>\n",
              "      <td>Children &amp; Family Movies, Comedies</td>\n",
              "      <td>Before planning an awesome wedding for his gra...</td>\n",
              "    </tr>\n",
              "    <tr>\n",
              "      <th>1</th>\n",
              "      <td>80117401</td>\n",
              "      <td>Movie</td>\n",
              "      <td>Jandino: Whatever it Takes</td>\n",
              "      <td>NaN</td>\n",
              "      <td>Jandino Asporaat</td>\n",
              "      <td>United Kingdom</td>\n",
              "      <td>September 9, 2016</td>\n",
              "      <td>2016</td>\n",
              "      <td>TV-MA</td>\n",
              "      <td>94 min</td>\n",
              "      <td>Stand-Up Comedy</td>\n",
              "      <td>Jandino Asporaat riffs on the challenges of ra...</td>\n",
              "    </tr>\n",
              "    <tr>\n",
              "      <th>2</th>\n",
              "      <td>70234439</td>\n",
              "      <td>TV Show</td>\n",
              "      <td>Transformers Prime</td>\n",
              "      <td>NaN</td>\n",
              "      <td>Peter Cullen, Sumalee Montano, Frank Welker, J...</td>\n",
              "      <td>United States</td>\n",
              "      <td>September 8, 2018</td>\n",
              "      <td>2013</td>\n",
              "      <td>TV-Y7-FV</td>\n",
              "      <td>1 Season</td>\n",
              "      <td>Kids' TV</td>\n",
              "      <td>With the help of three human allies, the Autob...</td>\n",
              "    </tr>\n",
              "    <tr>\n",
              "      <th>3</th>\n",
              "      <td>80058654</td>\n",
              "      <td>TV Show</td>\n",
              "      <td>Transformers: Robots in Disguise</td>\n",
              "      <td>NaN</td>\n",
              "      <td>Will Friedle, Darren Criss, Constance Zimmer, ...</td>\n",
              "      <td>United States</td>\n",
              "      <td>September 8, 2018</td>\n",
              "      <td>2016</td>\n",
              "      <td>TV-Y7</td>\n",
              "      <td>1 Season</td>\n",
              "      <td>Kids' TV</td>\n",
              "      <td>When a prison ship crash unleashes hundreds of...</td>\n",
              "    </tr>\n",
              "    <tr>\n",
              "      <th>4</th>\n",
              "      <td>80125979</td>\n",
              "      <td>Movie</td>\n",
              "      <td>#realityhigh</td>\n",
              "      <td>Fernando Lebrija</td>\n",
              "      <td>Nesta Cooper, Kate Walsh, John Michael Higgins...</td>\n",
              "      <td>United States</td>\n",
              "      <td>September 8, 2017</td>\n",
              "      <td>2017</td>\n",
              "      <td>TV-14</td>\n",
              "      <td>99 min</td>\n",
              "      <td>Comedies</td>\n",
              "      <td>When nerdy high schooler Dani finally attracts...</td>\n",
              "    </tr>\n",
              "  </tbody>\n",
              "</table>\n",
              "</div>"
            ],
            "text/plain": [
              "    show_id  ...                                        description\n",
              "0  81145628  ...  Before planning an awesome wedding for his gra...\n",
              "1  80117401  ...  Jandino Asporaat riffs on the challenges of ra...\n",
              "2  70234439  ...  With the help of three human allies, the Autob...\n",
              "3  80058654  ...  When a prison ship crash unleashes hundreds of...\n",
              "4  80125979  ...  When nerdy high schooler Dani finally attracts...\n",
              "\n",
              "[5 rows x 12 columns]"
            ]
          },
          "metadata": {
            "tags": []
          },
          "execution_count": 2
        }
      ]
    },
    {
      "cell_type": "markdown",
      "metadata": {
        "id": "TObYlBZlV7hW"
      },
      "source": [
        "#2) Contenu du dataset"
      ]
    },
    {
      "cell_type": "code",
      "metadata": {
        "id": "EbMLbVWcQa6L",
        "outputId": "cb6dfaaa-179d-467e-de63-60312ae7db69",
        "colab": {
          "base_uri": "https://localhost:8080/"
        }
      },
      "source": [
        "#On regarde la composition de notre dataset \n",
        "netflix.info()"
      ],
      "execution_count": null,
      "outputs": [
        {
          "output_type": "stream",
          "text": [
            "<class 'pandas.core.frame.DataFrame'>\n",
            "RangeIndex: 6234 entries, 0 to 6233\n",
            "Data columns (total 12 columns):\n",
            " #   Column        Non-Null Count  Dtype \n",
            "---  ------        --------------  ----- \n",
            " 0   show_id       6234 non-null   int64 \n",
            " 1   type          6234 non-null   object\n",
            " 2   title         6234 non-null   object\n",
            " 3   director      4265 non-null   object\n",
            " 4   cast          5664 non-null   object\n",
            " 5   country       5758 non-null   object\n",
            " 6   date_added    6223 non-null   object\n",
            " 7   release_year  6234 non-null   int64 \n",
            " 8   rating        6224 non-null   object\n",
            " 9   duration      6234 non-null   object\n",
            " 10  listed_in     6234 non-null   object\n",
            " 11  description   6234 non-null   object\n",
            "dtypes: int64(2), object(10)\n",
            "memory usage: 584.6+ KB\n"
          ],
          "name": "stdout"
        }
      ]
    },
    {
      "cell_type": "markdown",
      "metadata": {
        "id": "YkGcAAQ1QyME"
      },
      "source": [
        "Le dataset contient les informations suivantes : \n",
        "\n",
        "\n",
        "* L'**id** de l'objet\n",
        "* Le **type** : s'il s'agit d'un films ou d'une série\n",
        "* Le **titre** du films ou de la série\n",
        "* Le **directeur** qui produit l'oeuvre\n",
        "* Le **cast** correspond au casting du film/de la série\n",
        "* **country** correspond aux pays où le film est publié\n",
        "* **date_added** correspond à la date à laquelle le film a été ajouté sur Netflix. Attention, elle n'est pas en *datetime*\n",
        "* **release_year** est la date de sortie du film ! Il ne faut pas confondre avec la date d'ajout sur Netflix\n",
        "* **rating** est la note du film/de la série donnée par les utilisateurs\n",
        "* La durée du film/ Le nombre de saison de la série : **duration**\n",
        "* Les catégories qui correspondent au film/à la série : **listed_in**\n",
        "* La **description** du film/de la série\n",
        "\n"
      ]
    },
    {
      "cell_type": "markdown",
      "metadata": {
        "id": "3lzcBAWfV_qX"
      },
      "source": [
        "#3) Etude de la répartition de contenu de Netflix\n",
        "\n",
        "Regardons ce que nous trouvons sur Netflix "
      ]
    },
    {
      "cell_type": "code",
      "metadata": {
        "id": "XctXCeasfss0",
        "outputId": "a868311d-a299-4c43-8dc4-767f9c53a6c6",
        "colab": {
          "base_uri": "https://localhost:8080/",
          "height": 403
        }
      },
      "source": [
        "#Transformation de la date au format Datetime\n",
        "netflix['date_added'] = pd.to_datetime(netflix['date_added'])\n",
        "\n",
        "#On affiche le nombre de films posté en fonction de la date \n",
        "plt.figure(figsize=(15,8))\n",
        "sns.displot(netflix.date_added, bins=20, kde=False, aspect= 3)"
      ],
      "execution_count": 5,
      "outputs": [
        {
          "output_type": "execute_result",
          "data": {
            "text/plain": [
              "<seaborn.axisgrid.FacetGrid at 0x7f1594b8fc50>"
            ]
          },
          "metadata": {
            "tags": []
          },
          "execution_count": 5
        },
        {
          "output_type": "display_data",
          "data": {
            "text/plain": [
              "<Figure size 1080x576 with 0 Axes>"
            ]
          },
          "metadata": {
            "tags": []
          }
        },
        {
          "output_type": "display_data",
          "data": {
            "image/png": "[encoded data removed]",
            "text/plain": [
              "<Figure size 1080x360 with 1 Axes>"
            ]
          },
          "metadata": {
            "tags": [],
            "needs_background": "light"
          }
        }
      ]
    },
    {
      "cell_type": "markdown",
      "metadata": {
        "id": "x5qiKNa7jecY"
      },
      "source": [
        "On remarque au fil des années que Netflix rajoute de plus en plus de contenu (surtout en 2019 - 2020). en effet la situation sanitaire donne un avantage à Netflix car les personne restent chez eux, ainsi ils ont plus l'occasion de regarder la télévision ou bien leurs ordinateurs / téléphones donc ils peuvent regarder Netflix plus facilement qu'avant."
      ]
    },
    {
      "cell_type": "markdown",
      "metadata": {
        "id": "vjwCqxATWWHO"
      },
      "source": [
        "## a) Plus de films ou bien plus de séries ?"
      ]
    },
    {
      "cell_type": "code",
      "metadata": {
        "id": "rDrKV9szWag0",
        "outputId": "02d33e06-fb0f-4a1d-a316-24ffc822eec1",
        "colab": {
          "base_uri": "https://localhost:8080/",
          "height": 466
        }
      },
      "source": [
        "#netflix.type.value_counts().plot(kind='pie');\n",
        "#On créer un tableau pour les labels de notre graphique\n",
        "NetflixType = netflix.type.unique()\n",
        "\n",
        "#On affiche notre graphique avec les % de chaque parties\n",
        "plt.figure(figsize=(12,8))\n",
        "plt.pie(netflix.type.value_counts(), \n",
        "        labels=NetflixType,\n",
        "        autopct = \"%.2f\"\n",
        "        );"
      ],
      "execution_count": 8,
      "outputs": [
        {
          "output_type": "display_data",
          "data": {
            "image/png": "[encoded data removed]",
            "text/plain": [
              "<Figure size 864x576 with 1 Axes>"
            ]
          },
          "metadata": {
            "tags": []
          }
        }
      ]
    },
    {
      "cell_type": "markdown",
      "metadata": {
        "id": "_5eXQCFTblsH"
      },
      "source": [
        "On remarque qu'il y a beacoup plus de films que de séries sur la plateforme (ce qui est très étonnant car ce n'est pas l'impression que cela donne).\n",
        "\n",
        "Comment expliquer ce résultat ? \n",
        "\n",
        "\n",
        "*   On rappelle que selon où l'on se trouve, le contenu de la plateforme change, ce qui n'est pas pris en compte dans ce dataset. Il est dont tout à fait probable que dans certains pays il y a effectivement plus de films alors que dans d'autres régions il y aurait plus de séries 🌍\n",
        "*   Une série contient plusieurs saisons, la durée est donc plus élever qu'un film, donc on a l'impression qu'il y a plus de contenu séries que de films.\n",
        "\n"
      ]
    },
    {
      "cell_type": "markdown",
      "metadata": {
        "id": "yWd7R1lgdckK"
      },
      "source": [
        "## b) Dates ciblées ?\n",
        "\n",
        "Nous allons à present étudié le calendried de publication de Netflix voir s'il présente des particularités. \n",
        "Afin d'avoir une année entière et 2020 n'étant pas fini, on se concentrera sur 2019"
      ]
    },
    {
      "cell_type": "code",
      "metadata": {
        "id": "7-TInGuRj8UV",
        "outputId": "dbf804fb-adbb-4f08-b460-b79424a1bc95",
        "colab": {
          "base_uri": "https://localhost:8080/",
          "height": 310
        }
      },
      "source": [
        "netflix['dateYear'] = netflix['date_added'].dt.year\n",
        "netflix['dateMonth'] = netflix['date_added'].dt.month\n",
        "\n",
        "#On affiche donc le nombre de films/série ajouté tout au long de l'année 2019\n",
        "Netflix2019 = netflix[netflix['dateYear'] == 2019]\n",
        "plt.figure(figsize=(15,8))\n",
        "sns.displot(Netflix2019.dateMonth,\n",
        "            bins= 20,\n",
        "            kde = False,\n",
        "            aspect=5)"
      ],
      "execution_count": 6,
      "outputs": [
        {
          "output_type": "execute_result",
          "data": {
            "text/plain": [
              "<seaborn.axisgrid.FacetGrid at 0x7f15862d53c8>"
            ]
          },
          "metadata": {
            "tags": []
          },
          "execution_count": 6
        },
        {
          "output_type": "display_data",
          "data": {
            "text/plain": [
              "<Figure size 1080x576 with 0 Axes>"
            ]
          },
          "metadata": {
            "tags": []
          }
        },
        {
          "output_type": "display_data",
          "data": {
            "image/png": "[encoded data removed]",
            "text/plain": [
              "<Figure size 1800x360 with 1 Axes>"
            ]
          },
          "metadata": {
            "tags": [],
            "needs_background": "light"
          }
        }
      ]
    },
    {
      "cell_type": "markdown",
      "metadata": {
        "id": "F5V8NMRgFf45"
      },
      "source": [
        "Avec ce graphique on peut remarquer qu'au alentour des période de Noël, l'ajout de contenu est plus important que les autres mois qui présente un aspect un peu plus régulier. \n"
      ]
    },
    {
      "cell_type": "markdown",
      "metadata": {
        "id": "oSMfd913Fv4r"
      },
      "source": [
        "#4) Nettoyage des données\n",
        "\n",
        "Vérifions si nos données présente des NaN."
      ]
    },
    {
      "cell_type": "code",
      "metadata": {
        "id": "JoSvNyOgF8PM",
        "outputId": "57875141-920a-4ba8-b211-af272087e61b",
        "colab": {
          "base_uri": "https://localhost:8080/"
        }
      },
      "source": [
        "netflix.isna().sum()\n"
      ],
      "execution_count": null,
      "outputs": [
        {
          "output_type": "execute_result",
          "data": {
            "text/plain": [
              "show_id            0\n",
              "type               0\n",
              "title              0\n",
              "director        1969\n",
              "cast             570\n",
              "country          476\n",
              "date_added        11\n",
              "release_year       0\n",
              "rating            10\n",
              "duration           0\n",
              "listed_in          0\n",
              "description        0\n",
              "dateYear          11\n",
              "dateMonth         11\n",
              "dtype: int64"
            ]
          },
          "metadata": {
            "tags": []
          },
          "execution_count": 43
        }
      ]
    },
    {
      "cell_type": "code",
      "metadata": {
        "id": "l6MbFFEZHLBf",
        "outputId": "3b4fa269-94c7-4a09-b34f-3cc3308ca8cb",
        "colab": {
          "base_uri": "https://localhost:8080/"
        }
      },
      "source": [
        "netflix.show_id.count()"
      ],
      "execution_count": null,
      "outputs": [
        {
          "output_type": "execute_result",
          "data": {
            "text/plain": [
              "6234"
            ]
          },
          "metadata": {
            "tags": []
          },
          "execution_count": 45
        }
      ]
    },
    {
      "cell_type": "markdown",
      "metadata": {
        "id": "cbENrnodHHYG"
      },
      "source": [
        "Le dataset comprends 6234 films et série confondus. Donc les informations concenant les données **cast**, **country**, **date_added** et **rating**, ne représente pas énormément de données par rapport au nombre d'entrées totales.\n",
        "\n",
        "En ce qui concerne la case **director**, cela est plus compliqué car on ne peux pas \"deviner\" qui a produit le film. Il est donc très compliqué de remplir ses information et les supprimer impacterais le dataset. \n",
        "\n",
        "De plus l'étude ne portant pas spécialement sur les directeurs des films, dans ce cas là ce n'est pas handicapant de laissé ses informations vides."
      ]
    },
    {
      "cell_type": "markdown",
      "metadata": {
        "id": "L81C9QqWJ8wk"
      },
      "source": [
        "#5) Le type de contenu en fonction de la date de publication\n",
        "\n",
        "Avec le graphique représentant les publication par mois, on remarque que les publications sont plus élevés vers la fin de l'année, notamment octobre, novembre et décembre.\n",
        "\n",
        "On va donc étudier le type de contenu de ses mois."
      ]
    },
    {
      "cell_type": "markdown",
      "metadata": {
        "id": "_lnbX2nyNYOr"
      },
      "source": [
        "##a) Le mois d'Octobre"
      ]
    },
    {
      "cell_type": "code",
      "metadata": {
        "id": "yAra3BbXNWH1",
        "outputId": "13991827-a315-4391-9acb-fcb647b94d95",
        "colab": {
          "base_uri": "https://localhost:8080/",
          "height": 568
        }
      },
      "source": [
        "#on filtre le contenu d'Octobre 2019\n",
        "Octobre19 = Netflix2019[Netflix2019['dateMonth'] == 10]\n",
        "\n",
        "#On affiche le type de contenu (Film ou série ?)\n",
        "plt.figure(figsize =(12,8))\n",
        "plt.pie(Octobre19.type.value_counts(),\n",
        "        labels=NetflixType,\n",
        "        autopct = \"%.2f\")"
      ],
      "execution_count": null,
      "outputs": [
        {
          "output_type": "execute_result",
          "data": {
            "text/plain": [
              "([<matplotlib.patches.Wedge at 0x7f0f9d651208>,\n",
              "  <matplotlib.patches.Wedge at 0x7f0f9d6519b0>],\n",
              " [Text(-0.3990884968250827, 1.0250504239801554, 'Movie'),\n",
              "  Text(0.3990884968250828, -1.0250504239801552, 'TV Show')],\n",
              " [Text(-0.21768463463186324, 0.5591184130800847, '61.82'),\n",
              "  Text(0.21768463463186333, -0.5591184130800846, '38.18')])"
            ]
          },
          "metadata": {
            "tags": []
          },
          "execution_count": 49
        },
        {
          "output_type": "display_data",
          "data": {
            "image/png": "[encoded data removed]",
            "text/plain": [
              "<Figure size 864x576 with 1 Axes>"
            ]
          },
          "metadata": {
            "tags": []
          }
        }
      ]
    },
    {
      "cell_type": "code",
      "metadata": {
        "id": "aBgfKjuFPW16",
        "outputId": "643a0df0-499b-4869-d870-1e8d6df6904e",
        "colab": {
          "base_uri": "https://localhost:8080/"
        }
      },
      "source": [
        "#Les films étant majoritaire, on va s'intéresser à ceux_ci\n",
        "Octobre19Film = Octobre19[Octobre19['type'] == \"Movie\"]\n",
        "Octobre19Film['listed_in'].unique()"
      ],
      "execution_count": null,
      "outputs": [
        {
          "output_type": "execute_result",
          "data": {
            "text/plain": [
              "array(['Dramas, Romantic Movies', 'Dramas, Thrillers', 'Stand-Up Comedy',\n",
              "       'Children & Family Movies, Comedies',\n",
              "       'Dramas, International Movies',\n",
              "       'Dramas, International Movies, Romantic Movies',\n",
              "       'Dramas, Independent Movies, International Movies',\n",
              "       'Documentaries', 'Comedies, International Movies, Romantic Movies',\n",
              "       'Horror Movies, Thrillers', 'Children & Family Movies',\n",
              "       'Documentaries, International Movies',\n",
              "       'Documentaries, International Movies, Sports Movies',\n",
              "       'Dramas, Sports Movies',\n",
              "       'Horror Movies, Sci-Fi & Fantasy, Thrillers',\n",
              "       'Dramas, International Movies, Thrillers', 'Comedies, Dramas',\n",
              "       'International Movies',\n",
              "       'Horror Movies, Independent Movies, Thrillers',\n",
              "       'Comedies, Dramas, International Movies',\n",
              "       'Documentaries, Music & Musicals',\n",
              "       'Horror Movies, International Movies',\n",
              "       'Action & Adventure, Dramas',\n",
              "       'Action & Adventure, International Movies',\n",
              "       'Action & Adventure, Independent Movies',\n",
              "       'Comedies, Dramas, Independent Movies',\n",
              "       'Documentaries, Stand-Up Comedy',\n",
              "       'Cult Movies, Horror Movies, Independent Movies',\n",
              "       'Action & Adventure',\n",
              "       'Action & Adventure, Comedies, Independent Movies',\n",
              "       'Action & Adventure, Comedies, Sci-Fi & Fantasy', 'Horror Movies',\n",
              "       'Action & Adventure, Dramas, International Movies',\n",
              "       'Dramas, Faith & Spirituality, International Movies',\n",
              "       'Children & Family Movies, Dramas', 'Documentaries, Sports Movies',\n",
              "       'Thrillers', 'International Movies, Music & Musicals',\n",
              "       'Action & Adventure, Comedies', 'Dramas',\n",
              "       'Cult Movies, Horror Movies', 'Dramas, Independent Movies',\n",
              "       'Comedies', 'Children & Family Movies, Sci-Fi & Fantasy',\n",
              "       'Comedies, Romantic Movies', 'Comedies, Cult Movies',\n",
              "       'Classic Movies, Dramas, International Movies',\n",
              "       'Sci-Fi & Fantasy, Thrillers',\n",
              "       'Horror Movies, International Movies, Thrillers',\n",
              "       'Classic Movies, Dramas, Sports Movies',\n",
              "       'Action & Adventure, Sci-Fi & Fantasy',\n",
              "       'Children & Family Movies, Comedies, Sports Movies',\n",
              "       'Action & Adventure, Comedies, Romantic Movies',\n",
              "       'Comedies, Cult Movies, International Movies',\n",
              "       'Children & Family Movies, Comedies, Romantic Movies',\n",
              "       'Dramas, Romantic Movies, Sci-Fi & Fantasy',\n",
              "       'Comedies, Cult Movies, Dramas',\n",
              "       'Dramas, Independent Movies, Thrillers'], dtype=object)"
            ]
          },
          "metadata": {
            "tags": []
          },
          "execution_count": 52
        }
      ]
    },
    {
      "cell_type": "markdown",
      "metadata": {
        "id": "zmNW0YL2PXbm"
      },
      "source": [
        "On remarque que beaucoup de films sont des *Thrillers* ou bien des film *d'Horreur* ce qui correspond à la période d'Halloween. Halloween est aujourd'hui célébrée principalement en Irlande, en Grande-Bretagne, aux États-Unis, au Canada, en Australie, en Nouvelle-Zélande et, dans une moindre mesure, dans de nombreux autres pays. \n",
        "\n",
        "Ainsi on peut émettre l'hypothèse que Netflix adapte ses contenus par rapport aux événements."
      ]
    },
    {
      "cell_type": "markdown",
      "metadata": {
        "id": "WB4SYwreT0de"
      },
      "source": [
        "##b) Le mois de novembre"
      ]
    },
    {
      "cell_type": "code",
      "metadata": {
        "id": "-JlT8WJsT-Lp",
        "outputId": "4550f34e-0344-4517-c515-a7c5d900a01f",
        "colab": {
          "base_uri": "https://localhost:8080/",
          "height": 568
        }
      },
      "source": [
        "#On commence par filtrer le contenu du mois de novembre\n",
        "Novembre19 = Netflix2019[Netflix2019['dateMonth'] == 11]\n",
        "\n",
        "#On affiche le type de contenu (Film ou série ?)\n",
        "plt.figure(figsize =(12,8))\n",
        "plt.pie(Novembre19.type.value_counts(),\n",
        "        labels=NetflixType,\n",
        "        autopct = \"%.2f\")"
      ],
      "execution_count": null,
      "outputs": [
        {
          "output_type": "execute_result",
          "data": {
            "text/plain": [
              "([<matplotlib.patches.Wedge at 0x7f0f9d634080>,\n",
              "  <matplotlib.patches.Wedge at 0x7f0f9d634828>],\n",
              " [Text(-0.6522949939709985, 0.8857263916359133, 'Movie'),\n",
              "  Text(0.6522949939709989, -0.885726391635913, 'TV Show')],\n",
              " [Text(-0.3557972694387264, 0.48312348634686175, '70.21'),\n",
              "  Text(0.35579726943872664, -0.4831234863468616, '29.79')])"
            ]
          },
          "metadata": {
            "tags": []
          },
          "execution_count": 53
        },
        {
          "output_type": "display_data",
          "data": {
            "image/png": "[encoded data removed]",
            "text/plain": [
              "<Figure size 864x576 with 1 Axes>"
            ]
          },
          "metadata": {
            "tags": []
          }
        }
      ]
    },
    {
      "cell_type": "markdown",
      "metadata": {
        "id": "Cjq6L_w0UOda"
      },
      "source": [
        "On remarque qu'il y a encore une grande majorité de films. Afin de vérifier notre hypothèse, nous allons étudiez les catégories des films."
      ]
    },
    {
      "cell_type": "code",
      "metadata": {
        "id": "ViyWIVXCUbI4",
        "outputId": "0d0def8b-8dc2-4088-f87c-08d883f01d76",
        "colab": {
          "base_uri": "https://localhost:8080/"
        }
      },
      "source": [
        "Novembre19Film = Novembre19[Novembre19['type'] == \"Movie\"]\n",
        "Novembre19Film['listed_in'].unique()"
      ],
      "execution_count": null,
      "outputs": [
        {
          "output_type": "execute_result",
          "data": {
            "text/plain": [
              "array(['Action & Adventure, Comedies, Romantic Movies',\n",
              "       'Comedies, Dramas, LGBTQ Movies',\n",
              "       'Action & Adventure, Dramas, International Movies',\n",
              "       'International Movies, Thrillers', 'Dramas',\n",
              "       'Children & Family Movies, Comedies', 'Stand-Up Comedy',\n",
              "       'Comedies, Dramas, Independent Movies',\n",
              "       'Dramas, International Movies, Romantic Movies', 'Comedies',\n",
              "       'Children & Family Movies, Comedies, Romantic Movies',\n",
              "       'Comedies, Romantic Movies',\n",
              "       'Action & Adventure, International Movies, Sci-Fi & Fantasy',\n",
              "       'Comedies, Independent Movies, Romantic Movies', 'Documentaries',\n",
              "       'Dramas, International Movies, Thrillers',\n",
              "       'Documentaries, International Movies',\n",
              "       'Comedies, Dramas, International Movies', 'Action & Adventure',\n",
              "       'Dramas, Independent Movies, International Movies',\n",
              "       'Comedies, International Movies, Thrillers',\n",
              "       'Dramas, International Movies', 'Comedies, International Movies',\n",
              "       'Comedies, Independent Movies, International Movies',\n",
              "       'Action & Adventure, Comedies, International Movies',\n",
              "       'Children & Family Movies, Dramas', 'Dramas, Thrillers',\n",
              "       'Action & Adventure, Dramas',\n",
              "       'Comedies, International Movies, Romantic Movies',\n",
              "       'Dramas, Independent Movies', 'Children & Family Movies', 'Movies',\n",
              "       'Thrillers',\n",
              "       'Action & Adventure, Children & Family Movies, Comedies',\n",
              "       'Children & Family Movies, Classic Movies',\n",
              "       'Action & Adventure, Sci-Fi & Fantasy',\n",
              "       'Action & Adventure, Anime Features, International Movies',\n",
              "       'Documentaries, Sports Movies',\n",
              "       'Comedies, Dramas, Romantic Movies', 'Comedies, Cult Movies',\n",
              "       'Horror Movies, Sci-Fi & Fantasy, Thrillers',\n",
              "       'Comedies, Sci-Fi & Fantasy', 'Comedies, Sports Movies',\n",
              "       'Documentaries, International Movies, Sports Movies',\n",
              "       'Action & Adventure, Classic Movies, International Movies',\n",
              "       'Horror Movies, Thrillers',\n",
              "       'Classic Movies, Comedies, Sports Movies',\n",
              "       'Classic Movies, Dramas, Independent Movies',\n",
              "       'Cult Movies, Dramas, Thrillers', 'Horror Movies',\n",
              "       'Action & Adventure, Dramas, Independent Movies',\n",
              "       'Horror Movies, Independent Movies', 'Dramas, Romantic Movies',\n",
              "       'Children & Family Movies, Music & Musicals', 'Anime Features',\n",
              "       'Anime Features, International Movies, Romantic Movies',\n",
              "       'Documentaries, Music & Musicals',\n",
              "       'Dramas, Independent Movies, LGBTQ Movies',\n",
              "       'Classic Movies, Dramas, Romantic Movies',\n",
              "       'Classic Movies, Dramas', 'Action & Adventure, Classic Movies',\n",
              "       'Action & Adventure, Comedies',\n",
              "       'Action & Adventure, International Movies',\n",
              "       'Dramas, International Movies, LGBTQ Movies',\n",
              "       'Comedies, Cult Movies, Dramas',\n",
              "       'Action & Adventure, Classic Movies, Sci-Fi & Fantasy',\n",
              "       'Classic Movies, Comedies, Music & Musicals',\n",
              "       'Children & Family Movies, Dramas, Romantic Movies',\n",
              "       'Dramas, Sports Movies',\n",
              "       'Action & Adventure, Horror Movies, Sci-Fi & Fantasy',\n",
              "       'Classic Movies, Dramas, International Movies',\n",
              "       'Action & Adventure, Classic Movies, Cult Movies',\n",
              "       'Action & Adventure, Classic Movies, Dramas',\n",
              "       'Action & Adventure, Comedies, Independent Movies',\n",
              "       'Action & Adventure, Classic Movies, Comedies',\n",
              "       'Classic Movies, Horror Movies, Thrillers',\n",
              "       'Dramas, Music & Musicals', 'Dramas, Faith & Spirituality',\n",
              "       'Documentaries, International Movies, Music & Musicals',\n",
              "       'Comedies, Horror Movies'], dtype=object)"
            ]
          },
          "metadata": {
            "tags": []
          },
          "execution_count": 54
        }
      ]
    },
    {
      "cell_type": "markdown",
      "metadata": {
        "id": "qSpoHVNYZvcw"
      },
      "source": [
        "On peut voir qu'on a beaucoup plus de films *romantique* ce qui s'accorde bien avec les fameux **Films de Noël**.\n",
        "\n",
        "On peut donc confirmer qu'effectivement Netflix poste leur contenus en fonction de la période dans laquelle on se trouve. On trouvera plus de film d'Horreur sur la période d'Halloween et plus de films romantiques à la période de Noël."
      ]
    },
    {
      "cell_type": "markdown",
      "metadata": {
        "id": "4SOy9G_ZaRd1"
      },
      "source": [
        "##c) Par curiosité\n",
        "\n",
        "Maintenant que l'on sait ce que Netflix va poster son contenu en fonction de la période on peut se demander ce qu'il poste hors de ces périodes particulières. Par exemple que trouve-t-on comme contenu en Juillet"
      ]
    },
    {
      "cell_type": "code",
      "metadata": {
        "id": "oLyOScbwaN5Q",
        "outputId": "684134ec-898e-4015-d2f9-a3c26d6885c0",
        "colab": {
          "base_uri": "https://localhost:8080/",
          "height": 568
        }
      },
      "source": [
        "#On filtre pour le contenu pour juillet\n",
        "Ete19 = Netflix2019[(Netflix2019['dateMonth'] == 7)]\n",
        "#Ete19.head()\n",
        "\n",
        "#On affiche le type de contenu\n",
        "plt.figure(figsize =(12,8))\n",
        "plt.pie(Ete19.type.value_counts(),labels=NetflixType,autopct = \"%.2f\")"
      ],
      "execution_count": 9,
      "outputs": [
        {
          "output_type": "execute_result",
          "data": {
            "text/plain": [
              "([<matplotlib.patches.Wedge at 0x7f15855374a8>,\n",
              "  <matplotlib.patches.Wedge at 0x7f1585537c50>],\n",
              " [Text(-0.2757177275932748, 1.0648848457419238, 'Movie'),\n",
              "  Text(0.27571762789155874, -1.0648848715564758, 'TV Show')],\n",
              " [Text(-0.15039148777814987, 0.5808462794955948, '58.06'),\n",
              "  Text(0.15039143339539565, -0.5808462935762595, '41.94')])"
            ]
          },
          "metadata": {
            "tags": []
          },
          "execution_count": 9
        },
        {
          "output_type": "display_data",
          "data": {
            "image/png": "[encoded data removed]",
            "text/plain": [
              "<Figure size 864x576 with 1 Axes>"
            ]
          },
          "metadata": {
            "tags": []
          }
        }
      ]
    },
    {
      "cell_type": "markdown",
      "metadata": {
        "id": "gIswVg3ukJGP"
      },
      "source": [
        "Pour une fois, on remarque que la quantité série/films est pas loin d'être équivalente. \n",
        "\n",
        "Jettons un oeil à ce qu'il se trouve dans les séries."
      ]
    },
    {
      "cell_type": "code",
      "metadata": {
        "id": "xgb4dG9akbbF",
        "outputId": "52146028-602c-4321-a543-06cecaf9190b",
        "colab": {
          "base_uri": "https://localhost:8080/"
        }
      },
      "source": [
        "#On filtre les séries de juillet 2019\n",
        "seriesEte19 = Ete19[Ete19['type'] == \"TV Show\"]\n",
        "\n",
        "seriesEte19['listed_in'].unique()"
      ],
      "execution_count": 11,
      "outputs": [
        {
          "output_type": "execute_result",
          "data": {
            "text/plain": [
              "array([\"Kids' TV\", 'Crime TV Shows, TV Dramas',\n",
              "       'International TV Shows, Romantic TV Shows, TV Dramas', 'TV Shows',\n",
              "       'Docuseries, TV Dramas',\n",
              "       'British TV Shows, Crime TV Shows, Docuseries',\n",
              "       'British TV Shows, International TV Shows, Reality TV',\n",
              "       'British TV Shows, Docuseries, International TV Shows',\n",
              "       'TV Action & Adventure, TV Dramas, TV Mysteries',\n",
              "       'International TV Shows', 'International TV Shows, Reality TV',\n",
              "       'International TV Shows, Korean TV Shows, TV Dramas',\n",
              "       'Anime Series, International TV Shows',\n",
              "       'International TV Shows, TV Horror, TV Mysteries',\n",
              "       'International TV Shows, Korean TV Shows, Romantic TV Shows',\n",
              "       'Anime Series, International TV Shows, Teen TV Shows',\n",
              "       \"Kids' TV, TV Comedies\",\n",
              "       'British TV Shows, Reality TV, Romantic TV Shows',\n",
              "       'British TV Shows, Docuseries',\n",
              "       'International TV Shows, Spanish-Language TV Shows, TV Dramas',\n",
              "       'Reality TV',\n",
              "       'International TV Shows, TV Action & Adventure, TV Sci-Fi & Fantasy',\n",
              "       'Docuseries, International TV Shows, Reality TV', 'TV Comedies',\n",
              "       \"Kids' TV, TV Action & Adventure, TV Comedies\",\n",
              "       \"Kids' TV, Korean TV Shows\", 'Crime TV Shows, Docuseries',\n",
              "       'Anime Series', \"British TV Shows, Kids' TV, TV Dramas\",\n",
              "       'International TV Shows, TV Dramas, TV Thrillers',\n",
              "       'TV Horror, TV Mysteries, TV Sci-Fi & Fantasy',\n",
              "       'International TV Shows, TV Comedies, TV Dramas',\n",
              "       'TV Comedies, TV Dramas', \"British TV Shows, Kids' TV\",\n",
              "       'TV Dramas, TV Sci-Fi & Fantasy',\n",
              "       'Stand-Up Comedy & Talk Shows, TV Comedies',\n",
              "       'Crime TV Shows, International TV Shows, Spanish-Language TV Shows',\n",
              "       'Docuseries',\n",
              "       'International TV Shows, TV Action & Adventure, TV Dramas',\n",
              "       \"Kids' TV, TV Action & Adventure, TV Sci-Fi & Fantasy\",\n",
              "       'International TV Shows, TV Dramas',\n",
              "       \"Kids' TV, Korean TV Shows, TV Comedies\"], dtype=object)"
            ]
          },
          "metadata": {
            "tags": []
          },
          "execution_count": 11
        }
      ]
    },
    {
      "cell_type": "markdown",
      "metadata": {
        "id": "MZ-eW2lRToQJ"
      },
      "source": [
        "On voit qu'il y a énormément de TV Show (= Emission de télé) ajouter en Juillet. Comme il s'agit de série on peut imaginer l'ajout de nouvelles saisons/nouvelles émissions ce qui expliquerais aussi l'ajout régulier pour les autres mois."
      ]
    },
    {
      "cell_type": "markdown",
      "metadata": {
        "id": "a5tbfan5UGP-"
      },
      "source": [
        "# Conclusion"
      ]
    },
    {
      "cell_type": "markdown",
      "metadata": {
        "id": "a_t0mDpVULH6"
      },
      "source": [
        "Suite à cette analyse, on peut donc conclure que Netflix adapte son contenus par rapport aux périodes dans lesquelles on se trouve, on parle alors de **saisonalité**. Par exemple à la période d'Halloween il y aura plus de films d'horreur 🦇 ajouter que les autres mois. \n",
        "\n",
        "On pourrait ensuite s'intéresser dans une autre étude au type de contenu publié en fonction du pays dans lequel on se trouve 🌍"
      ]
    }
  ]
}