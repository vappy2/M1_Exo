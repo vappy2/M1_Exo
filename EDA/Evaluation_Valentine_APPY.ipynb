{
  "nbformat": 4,
  "nbformat_minor": 0,
  "metadata": {
    "colab": {
      "name": "Evaluation Valentine APPY.ipynb",
      "provenance": []
    },
    "kernelspec": {
      "name": "python3",
      "display_name": "Python 3"
    }
  },
  "cells": [
    {
      "cell_type": "markdown",
      "metadata": {
        "id": "jqWznVEtouDY"
      },
      "source": [
        "#Problème 1 : Le carré"
      ]
    },
    {
      "cell_type": "code",
      "metadata": {
        "id": "ZvyAI9EGomGd",
        "outputId": "ae24f591-9b95-4b4a-bc6f-24442ce0950e",
        "colab": {
          "base_uri": "https://localhost:8080/"
        }
      },
      "source": [
        "def carre(num) :\n",
        "  print(num*num)\n",
        "\n",
        "a = int(input(\"Entrez un nombre\"))\n",
        "carre(a)"
      ],
      "execution_count": 4,
      "outputs": [
        {
          "output_type": "stream",
          "text": [
            "Entrez un nombre8\n",
            "64\n"
          ],
          "name": "stdout"
        }
      ]
    },
    {
      "cell_type": "markdown",
      "metadata": {
        "id": "9zdg3DXnpe_h"
      },
      "source": [
        "#Problème 2 : Le produit"
      ]
    },
    {
      "cell_type": "code",
      "metadata": {
        "id": "UUeTFllLpd8V",
        "outputId": "35665029-3934-4b59-d626-8a2ba79049b9",
        "colab": {
          "base_uri": "https://localhost:8080/"
        }
      },
      "source": [
        "a = input('Entrez un nombre :')\n",
        "b = input('Entrez un autre nombre :')\n",
        "\n",
        "A,B = int(a), int(b)\n",
        "\n",
        "if A < 0 or B < 0 :\n",
        "  print('Le produit est négatif')\n",
        "\n",
        "elif A == 0 or B == 0 :\n",
        "  print('Le produit est positif')\n",
        "else :\n",
        "  print('Le produit est positif')"
      ],
      "execution_count": 5,
      "outputs": [
        {
          "output_type": "stream",
          "text": [
            "Entrez un nombre :3\n",
            "Entrez un autre nombre :-10\n",
            "Le produit est négatif\n"
          ],
          "name": "stdout"
        }
      ]
    },
    {
      "cell_type": "markdown",
      "metadata": {
        "id": "lpb3Orebpxey"
      },
      "source": [
        "#Problème 3 : La somme"
      ]
    },
    {
      "cell_type": "code",
      "metadata": {
        "id": "gVRTfkAVpwd2",
        "outputId": "07b24a9f-2655-4f50-d114-30055d6a83ca",
        "colab": {
          "base_uri": "https://localhost:8080/"
        }
      },
      "source": [
        "a = input('Entrez un nombre')\n",
        "A = int(a)\n",
        "\n",
        "result = 0\n",
        "\n",
        "for i in range(A+1):\n",
        "  result += i\n",
        "print(result)"
      ],
      "execution_count": 6,
      "outputs": [
        {
          "output_type": "stream",
          "text": [
            "Entrez un nombre5\n",
            "15\n"
          ],
          "name": "stdout"
        }
      ]
    },
    {
      "cell_type": "markdown",
      "metadata": {
        "id": "oAMvOniSp-uo"
      },
      "source": [
        "#Problème 4 : FacProduit"
      ]
    },
    {
      "cell_type": "code",
      "metadata": {
        "id": "LCEJjpcbptbO"
      },
      "source": [
        "#Pas le temps 😭"
      ],
      "execution_count": null,
      "outputs": []
    },
    {
      "cell_type": "markdown",
      "metadata": {
        "id": "rqcVREPKqeDq"
      },
      "source": [
        "#Problème 5 : Minimum\n"
      ]
    },
    {
      "cell_type": "code",
      "metadata": {
        "id": "j06QVU5Iqg7z",
        "outputId": "0914a912-32b8-4648-868b-92a1058dfe33",
        "colab": {
          "base_uri": "https://localhost:8080/"
        }
      },
      "source": [
        "from random import randint\n",
        "#Générer une liste aléatoire \n",
        "Liste = [randint(0,10) for _ in range(10)]\n",
        "\n",
        "min = Liste[0]\n",
        "\n",
        "for element in Liste :\n",
        "  if element < min :\n",
        "    min = element\n",
        "print (Liste, min)"
      ],
      "execution_count": 13,
      "outputs": [
        {
          "output_type": "stream",
          "text": [
            "[3, 1, 0, 6, 5, 9, 2, 4, 7, 6] 0\n"
          ],
          "name": "stdout"
        }
      ]
    },
    {
      "cell_type": "markdown",
      "metadata": {
        "id": "TQQr2OMQr9lB"
      },
      "source": [
        "#Problème 6 : Tri"
      ]
    },
    {
      "cell_type": "code",
      "metadata": {
        "id": "eNiQ70wHrv2U",
        "outputId": "9e757720-a9a8-44b9-a009-71dc2cd421a1",
        "colab": {
          "base_uri": "https://localhost:8080/"
        }
      },
      "source": [
        "liste = [randint(1,10) for i in range(10)]\n",
        "liste3=[]\n",
        "taille = len(liste)\n",
        "print(liste)\n",
        "a = 0\n",
        "while a < taille :\n",
        "  min = liste[0] #On réinitialise le min à chaque itération\n",
        "  for i,nombre in enumerate(liste) :\n",
        "    if nombre <= min:\n",
        "      min = nombre\n",
        "      n = i\n",
        "  liste3.append(min)\n",
        "  del liste[n] \n",
        "  a += 1\n",
        "print(liste3)"
      ],
      "execution_count": 15,
      "outputs": [
        {
          "output_type": "stream",
          "text": [
            "[2, 5, 7, 6, 2, 5, 3, 8, 1, 6]\n",
            "[1, 2, 2, 3, 5, 5, 6, 6, 7, 8]\n"
          ],
          "name": "stdout"
        }
      ]
    },
    {
      "cell_type": "markdown",
      "metadata": {
        "id": "XdOTyqhnsGH9"
      },
      "source": [
        "# Problème 7 : Carré & listes "
      ]
    },
    {
      "cell_type": "code",
      "metadata": {
        "id": "OkjO1a6asQ-Y",
        "outputId": "3609a52f-5798-47d2-f991-c5161905b438",
        "colab": {
          "base_uri": "https://localhost:8080/"
        }
      },
      "source": [
        "liste4 = [randint(1,10) for i in range(10)]\n",
        "taille = len(liste4)\n",
        "print(liste4)\n",
        "\n",
        "#Fonction du premier problème \n",
        "def carre(num) :\n",
        "  print(num*num)\n",
        "\n",
        "while a < taille :\n",
        "  for i in liste4 :\n",
        "    liste4[i] = carre(liste4[i])\n",
        "print(liste4)\n",
        "\n",
        "#Ça ne fonctionne pas et je ne comprends absolument pas pourquoi 😭"
      ],
      "execution_count": 28,
      "outputs": [
        {
          "output_type": "stream",
          "text": [
            "[1, 1, 1, 4, 2, 1, 10, 7, 2, 7]\n",
            "[1, 1, 1, 4, 2, 1, 10, 7, 2, 7]\n"
          ],
          "name": "stdout"
        }
      ]
    },
    {
      "cell_type": "markdown",
      "metadata": {
        "id": "E_MttwO3uay4"
      },
      "source": [
        "#Problème 9 : Multiplication matricielle"
      ]
    },
    {
      "cell_type": "code",
      "metadata": {
        "id": "B0UvrQ-KuaC_",
        "outputId": "de7a472b-82f4-400c-841b-0f263d7b4c40",
        "colab": {
          "base_uri": "https://localhost:8080/"
        }
      },
      "source": [
        "import numpy as np\n",
        "\n",
        "def multip_matrice(A,B) :\n",
        "  if np.size(A) == np.size(B) :\n",
        "    print(np.dot(A,B))\n",
        "  else:\n",
        "    print('Les matrices ne sont pas de même dimension')\n",
        "\n",
        "TabA = [1,2,3,4]\n",
        "TabB = [1,3,2,4]\n",
        "\n",
        "matA = np.array(TabA).reshape(2,2)\n",
        "matB = np.array(TabB).reshape(2,2)\n",
        "\n",
        "multip_matrice(matA,matB)\n"
      ],
      "execution_count": 30,
      "outputs": [
        {
          "output_type": "stream",
          "text": [
            "[[ 5 11]\n",
            " [11 25]]\n"
          ],
          "name": "stdout"
        }
      ]
    },
    {
      "cell_type": "markdown",
      "metadata": {
        "id": "QW4-0c9NwTJA"
      },
      "source": [
        "#Problème 10 : La POO\n"
      ]
    },
    {
      "cell_type": "markdown",
      "metadata": {
        "id": "ETXtRByDwV6X"
      },
      "source": [
        "La POO (= programmation orientée objet) est une manière de coder qui permet de définir des objet à partir de classes. \n",
        "Les classes contienne des propriétés qui leurs sont propres et définit par l'utilisateur. On peux aussi y ajouter des méthodes qui permette de manipuler les propriété à l'intérieur des classes.\n",
        "\n",
        "Attention ⚠️  : Chaque classe contient un **constructeur**\n",
        "\n",
        "L'**héritage** est un concept visant les classes \"filles\" c'est-à-dire que les classe filles héritant de la classe mère vont hériter de ses propriétes. \n",
        "De plus si l'ont modifie une fonction dans la classe fille et qui existait déjà dans la classe mère, on parle alors de **polymorphisme**"
      ]
    },
    {
      "cell_type": "code",
      "metadata": {
        "id": "ZlRJHssKxdcK",
        "outputId": "bae1b86f-967a-4084-9172-4a551221c4ad",
        "colab": {
          "base_uri": "https://localhost:8080/"
        }
      },
      "source": [
        "#J'avoue avoir fait un copier-coller d'un des exercice de POO mais pour ma défense il ne me reste que 3 min 😭\n",
        "\n",
        "class DateNaissance :\n",
        "\n",
        "  #contructeur : La date de naissance a pour argument le jour, le mois et l'année\n",
        "  def __init__(self, jour,mois,annee) :\n",
        "    self.jour = jour\n",
        "    self.mois = mois\n",
        "    self.annee = annee\n",
        "  \n",
        "  #Afficher la date de naissance sous forme de string : jj/mm/aaaa\n",
        "  def ToString(self) :\n",
        "    print(\"Date de naissance : :\" +str(self.jour), \"/\"+str(self.mois) , \"/\"+str(self.annee))\n",
        "  \n",
        "\n",
        "class Personne :\n",
        "\n",
        "  #Constructeur : A pour argument nom, prénom, date de naissance\n",
        "  def __init__(self,nom, prenom, date_naissance) : \n",
        "    self.nom = nom\n",
        "    self.prenom = prenom\n",
        "    self.date_naissance = date_naissance\n",
        "  \n",
        "  #On affiche les informations de la personne\n",
        "  def Afficher(self) :\n",
        "    print(\"Nom : \"+self.nom)\n",
        "    print(\"Prenom : \"+self.prenom)\n",
        "    self.date_naissance.ToString()\n",
        "\n",
        "class Employe(Personne) :\n",
        "\n",
        "  #Le constructeur d'Employé hérite de Personne avec le salaire en plus\n",
        "  def __init__(self, nom, prenom, date_naissance, salaire) :\n",
        "    Personne.__init__(self,nom,prenom,date_naissance)\n",
        "    self.salaire = salaire\n",
        "  \n",
        "  # Afficher est un polymorphisme de Personne\n",
        "  def Afficher(self) :\n",
        "    #On utilise la méthode Afficher() provenant de Personne via l'héritage\n",
        "    Personne.Afficher(self)\n",
        "    #On ajoute le salaire à l'affichage qui est propre à Employé\n",
        "    print(\"Salaire : \"+str(self.salaire))\n",
        "\n",
        "\n",
        "\n",
        "class Chef(Employe) :\n",
        "\n",
        "  #Construction de chef hérite de Employé, on y ajoute en plus le service\n",
        "  def __init__(self, nom, prenom, date_naissance, salaire, service) :\n",
        "    Employe.__init__(self,nom,prenom,date_naissance,salaire)\n",
        "    self.service = service\n",
        "\n",
        "  #méthode polymorphique d'Afficher)()\n",
        "  def Afficher(self) : \n",
        "    #On utilise la méthode Afficher() d'Employé via l'héritage   \n",
        "    Employe.Afficher(self)\n",
        "    #On affiche en plus le service qui est propre à chef\n",
        "    print(\"Service : \"+self.service)\n",
        "\n",
        "\n",
        "\n",
        "#Execution \n",
        "P = Personne(\"Ilyass\", \"Math\", DateNaissance(1,7,1982))\n",
        "P.Afficher()\n",
        "print(\"------\")\n",
        "E = Employe(\"Ilyass\", \"Math\", DateNaissance(1,7,1982), 7865.548)\n",
        "E.Afficher()\n",
        "print(\"-----\")\n",
        "C = Chef(\"Ilyass\", \"Math\", DateNaissance(1,7,1982), 7865.548, \"Ressource Humaine\")\n",
        "C.Afficher()"
      ],
      "execution_count": 31,
      "outputs": [
        {
          "output_type": "stream",
          "text": [
            "Nom : Ilyass\n",
            "Prenom : Math\n",
            "Date de naissance : :1 /7 /1982\n",
            "------\n",
            "Nom : Ilyass\n",
            "Prenom : Math\n",
            "Date de naissance : :1 /7 /1982\n",
            "Salaire : 7865.548\n",
            "-----\n",
            "Nom : Ilyass\n",
            "Prenom : Math\n",
            "Date de naissance : :1 /7 /1982\n",
            "Salaire : 7865.548\n",
            "Service : Ressource Humaine\n"
          ],
          "name": "stdout"
        }
      ]
    }
  ]
}